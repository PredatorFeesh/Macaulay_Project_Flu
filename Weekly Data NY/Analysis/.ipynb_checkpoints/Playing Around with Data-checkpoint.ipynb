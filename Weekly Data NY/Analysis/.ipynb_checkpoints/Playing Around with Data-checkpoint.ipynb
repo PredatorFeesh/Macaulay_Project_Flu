{
 "cells": [
  {
   "cell_type": "markdown",
   "metadata": {},
   "source": [
    "<h1> Testing Data </h1> <br>\n",
    "<h3> Mostly me looking around in the data to see for links </h3>"
   ]
  },
  {
   "cell_type": "code",
   "execution_count": null,
   "metadata": {},
   "outputs": [],
   "source": [
    "%matplotlib inline\n",
    "import pandas as pd\n",
    "import numpy as np\n",
    "from matplotlib import pyplot as plt"
   ]
  },
  {
   "cell_type": "code",
   "execution_count": 2,
   "metadata": {},
   "outputs": [
    {
     "data": {
      "text/html": [
       "<div>\n",
       "<style scoped>\n",
       "    .dataframe tbody tr th:only-of-type {\n",
       "        vertical-align: middle;\n",
       "    }\n",
       "\n",
       "    .dataframe tbody tr th {\n",
       "        vertical-align: top;\n",
       "    }\n",
       "\n",
       "    .dataframe thead th {\n",
       "        text-align: right;\n",
       "    }\n",
       "</style>\n",
       "<table border=\"1\" class=\"dataframe\">\n",
       "  <thead>\n",
       "    <tr style=\"text-align: right;\">\n",
       "      <th></th>\n",
       "      <th>Season</th>\n",
       "      <th>Region</th>\n",
       "      <th>County</th>\n",
       "      <th>CDC Week</th>\n",
       "      <th>Week Ending Date</th>\n",
       "      <th>Disease</th>\n",
       "      <th>Count</th>\n",
       "      <th>County Centroid</th>\n",
       "      <th>FIPS</th>\n",
       "    </tr>\n",
       "  </thead>\n",
       "  <tbody>\n",
       "    <tr>\n",
       "      <th>0</th>\n",
       "      <td>2009-2010</td>\n",
       "      <td>NYC</td>\n",
       "      <td>BRONX</td>\n",
       "      <td>15</td>\n",
       "      <td>04/17/2010</td>\n",
       "      <td>INFLUENZA_A</td>\n",
       "      <td>0</td>\n",
       "      <td>(40.8448, -73.8648)</td>\n",
       "      <td>36005</td>\n",
       "    </tr>\n",
       "    <tr>\n",
       "      <th>1</th>\n",
       "      <td>2009-2010</td>\n",
       "      <td>NYC</td>\n",
       "      <td>BRONX</td>\n",
       "      <td>15</td>\n",
       "      <td>04/17/2010</td>\n",
       "      <td>INFLUENZA_B</td>\n",
       "      <td>0</td>\n",
       "      <td>(40.8448, -73.8648)</td>\n",
       "      <td>36005</td>\n",
       "    </tr>\n",
       "    <tr>\n",
       "      <th>2</th>\n",
       "      <td>2009-2010</td>\n",
       "      <td>NYC</td>\n",
       "      <td>BRONX</td>\n",
       "      <td>48</td>\n",
       "      <td>12/05/2009</td>\n",
       "      <td>INFLUENZA_A</td>\n",
       "      <td>91</td>\n",
       "      <td>(40.8448, -73.8648)</td>\n",
       "      <td>36005</td>\n",
       "    </tr>\n",
       "    <tr>\n",
       "      <th>3</th>\n",
       "      <td>2009-2010</td>\n",
       "      <td>CAPITAL DISTRICT</td>\n",
       "      <td>ALBANY</td>\n",
       "      <td>1</td>\n",
       "      <td>01/09/2010</td>\n",
       "      <td>INFLUENZA_A</td>\n",
       "      <td>0</td>\n",
       "      <td>(42.5882713, -73.9740136)</td>\n",
       "      <td>36001</td>\n",
       "    </tr>\n",
       "    <tr>\n",
       "      <th>4</th>\n",
       "      <td>2009-2010</td>\n",
       "      <td>CAPITAL DISTRICT</td>\n",
       "      <td>ALBANY</td>\n",
       "      <td>1</td>\n",
       "      <td>01/09/2010</td>\n",
       "      <td>INFLUENZA_B</td>\n",
       "      <td>0</td>\n",
       "      <td>(42.5882713, -73.9740136)</td>\n",
       "      <td>36001</td>\n",
       "    </tr>\n",
       "  </tbody>\n",
       "</table>\n",
       "</div>"
      ],
      "text/plain": [
       "      Season            Region  County  CDC Week Week Ending Date  \\\n",
       "0  2009-2010               NYC   BRONX        15       04/17/2010   \n",
       "1  2009-2010               NYC   BRONX        15       04/17/2010   \n",
       "2  2009-2010               NYC   BRONX        48       12/05/2009   \n",
       "3  2009-2010  CAPITAL DISTRICT  ALBANY         1       01/09/2010   \n",
       "4  2009-2010  CAPITAL DISTRICT  ALBANY         1       01/09/2010   \n",
       "\n",
       "       Disease  Count            County Centroid   FIPS  \n",
       "0  INFLUENZA_A      0        (40.8448, -73.8648)  36005  \n",
       "1  INFLUENZA_B      0        (40.8448, -73.8648)  36005  \n",
       "2  INFLUENZA_A     91        (40.8448, -73.8648)  36005  \n",
       "3  INFLUENZA_A      0  (42.5882713, -73.9740136)  36001  \n",
       "4  INFLUENZA_B      0  (42.5882713, -73.9740136)  36001  "
      ]
     },
     "execution_count": 2,
     "metadata": {},
     "output_type": "execute_result"
    }
   ],
   "source": [
    "# File: Cases_By_County__Beginning_2009-10_Season.csv\n",
    "data = pd.read_csv('../Cases_By_County__Beginning_2009-10_Season.csv')\n",
    "pd.set_option('display.max_columns', None)\n",
    "data.head()"
   ]
  },
  {
   "cell_type": "code",
   "execution_count": 3,
   "metadata": {
    "scrolled": true
   },
   "outputs": [],
   "source": [
    "data = data.drop(['FIPS','County Centroid'], axis=1) # Removing data we won't really use"
   ]
  },
  {
   "cell_type": "code",
   "execution_count": 4,
   "metadata": {},
   "outputs": [
    {
     "data": {
      "text/plain": [
       "Season              0\n",
       "Region              0\n",
       "County              0\n",
       "CDC Week            0\n",
       "Week Ending Date    0\n",
       "Disease             0\n",
       "Count               0\n",
       "dtype: int64"
      ]
     },
     "execution_count": 4,
     "metadata": {},
     "output_type": "execute_result"
    }
   ],
   "source": [
    "data.isnull().sum() # Good, none of our data is empty"
   ]
  },
  {
   "cell_type": "code",
   "execution_count": 5,
   "metadata": {},
   "outputs": [
    {
     "data": {
      "text/html": [
       "<div>\n",
       "<style scoped>\n",
       "    .dataframe tbody tr th:only-of-type {\n",
       "        vertical-align: middle;\n",
       "    }\n",
       "\n",
       "    .dataframe tbody tr th {\n",
       "        vertical-align: top;\n",
       "    }\n",
       "\n",
       "    .dataframe thead th {\n",
       "        text-align: right;\n",
       "    }\n",
       "</style>\n",
       "<table border=\"1\" class=\"dataframe\">\n",
       "  <thead>\n",
       "    <tr style=\"text-align: right;\">\n",
       "      <th></th>\n",
       "      <th>Season</th>\n",
       "      <th>Region</th>\n",
       "      <th>County</th>\n",
       "      <th>CDC Week</th>\n",
       "      <th>Week Ending Date</th>\n",
       "      <th>Disease</th>\n",
       "      <th>Count</th>\n",
       "    </tr>\n",
       "  </thead>\n",
       "  <tbody>\n",
       "    <tr>\n",
       "      <th>0</th>\n",
       "      <td>2009-2010</td>\n",
       "      <td>NYC</td>\n",
       "      <td>BRONX</td>\n",
       "      <td>15</td>\n",
       "      <td>04/17/2010</td>\n",
       "      <td>INFLUENZA_A</td>\n",
       "      <td>0</td>\n",
       "    </tr>\n",
       "    <tr>\n",
       "      <th>1</th>\n",
       "      <td>2009-2010</td>\n",
       "      <td>NYC</td>\n",
       "      <td>BRONX</td>\n",
       "      <td>15</td>\n",
       "      <td>04/17/2010</td>\n",
       "      <td>INFLUENZA_B</td>\n",
       "      <td>0</td>\n",
       "    </tr>\n",
       "    <tr>\n",
       "      <th>2</th>\n",
       "      <td>2009-2010</td>\n",
       "      <td>NYC</td>\n",
       "      <td>BRONX</td>\n",
       "      <td>48</td>\n",
       "      <td>12/05/2009</td>\n",
       "      <td>INFLUENZA_A</td>\n",
       "      <td>91</td>\n",
       "    </tr>\n",
       "    <tr>\n",
       "      <th>3</th>\n",
       "      <td>2009-2010</td>\n",
       "      <td>CAPITAL DISTRICT</td>\n",
       "      <td>ALBANY</td>\n",
       "      <td>1</td>\n",
       "      <td>01/09/2010</td>\n",
       "      <td>INFLUENZA_A</td>\n",
       "      <td>0</td>\n",
       "    </tr>\n",
       "    <tr>\n",
       "      <th>4</th>\n",
       "      <td>2009-2010</td>\n",
       "      <td>CAPITAL DISTRICT</td>\n",
       "      <td>ALBANY</td>\n",
       "      <td>1</td>\n",
       "      <td>01/09/2010</td>\n",
       "      <td>INFLUENZA_B</td>\n",
       "      <td>0</td>\n",
       "    </tr>\n",
       "  </tbody>\n",
       "</table>\n",
       "</div>"
      ],
      "text/plain": [
       "      Season            Region  County  CDC Week Week Ending Date  \\\n",
       "0  2009-2010               NYC   BRONX        15       04/17/2010   \n",
       "1  2009-2010               NYC   BRONX        15       04/17/2010   \n",
       "2  2009-2010               NYC   BRONX        48       12/05/2009   \n",
       "3  2009-2010  CAPITAL DISTRICT  ALBANY         1       01/09/2010   \n",
       "4  2009-2010  CAPITAL DISTRICT  ALBANY         1       01/09/2010   \n",
       "\n",
       "       Disease  Count  \n",
       "0  INFLUENZA_A      0  \n",
       "1  INFLUENZA_B      0  \n",
       "2  INFLUENZA_A     91  \n",
       "3  INFLUENZA_A      0  \n",
       "4  INFLUENZA_B      0  "
      ]
     },
     "execution_count": 5,
     "metadata": {},
     "output_type": "execute_result"
    }
   ],
   "source": [
    "data.head()"
   ]
  },
  {
   "cell_type": "code",
   "execution_count": 6,
   "metadata": {},
   "outputs": [
    {
     "data": {
      "text/html": [
       "<div>\n",
       "<style scoped>\n",
       "    .dataframe tbody tr th:only-of-type {\n",
       "        vertical-align: middle;\n",
       "    }\n",
       "\n",
       "    .dataframe tbody tr th {\n",
       "        vertical-align: top;\n",
       "    }\n",
       "\n",
       "    .dataframe thead th {\n",
       "        text-align: right;\n",
       "    }\n",
       "</style>\n",
       "<table border=\"1\" class=\"dataframe\">\n",
       "  <thead>\n",
       "    <tr style=\"text-align: right;\">\n",
       "      <th></th>\n",
       "      <th>Season</th>\n",
       "      <th>Region</th>\n",
       "      <th>County</th>\n",
       "      <th>CDC Week</th>\n",
       "      <th>Week Ending Date</th>\n",
       "      <th>Disease</th>\n",
       "      <th>Count</th>\n",
       "    </tr>\n",
       "  </thead>\n",
       "  <tbody>\n",
       "    <tr>\n",
       "      <th>0</th>\n",
       "      <td>2009-2010</td>\n",
       "      <td>NYC</td>\n",
       "      <td>BRONX</td>\n",
       "      <td>15</td>\n",
       "      <td>04/17/2010</td>\n",
       "      <td>INFLUENZA_A</td>\n",
       "      <td>0</td>\n",
       "    </tr>\n",
       "    <tr>\n",
       "      <th>2</th>\n",
       "      <td>2009-2010</td>\n",
       "      <td>NYC</td>\n",
       "      <td>BRONX</td>\n",
       "      <td>48</td>\n",
       "      <td>12/05/2009</td>\n",
       "      <td>INFLUENZA_A</td>\n",
       "      <td>91</td>\n",
       "    </tr>\n",
       "    <tr>\n",
       "      <th>3</th>\n",
       "      <td>2009-2010</td>\n",
       "      <td>CAPITAL DISTRICT</td>\n",
       "      <td>ALBANY</td>\n",
       "      <td>1</td>\n",
       "      <td>01/09/2010</td>\n",
       "      <td>INFLUENZA_A</td>\n",
       "      <td>0</td>\n",
       "    </tr>\n",
       "    <tr>\n",
       "      <th>6</th>\n",
       "      <td>2009-2010</td>\n",
       "      <td>CAPITAL DISTRICT</td>\n",
       "      <td>ALBANY</td>\n",
       "      <td>2</td>\n",
       "      <td>01/16/2010</td>\n",
       "      <td>INFLUENZA_A</td>\n",
       "      <td>0</td>\n",
       "    </tr>\n",
       "    <tr>\n",
       "      <th>9</th>\n",
       "      <td>2009-2010</td>\n",
       "      <td>CAPITAL DISTRICT</td>\n",
       "      <td>ALBANY</td>\n",
       "      <td>3</td>\n",
       "      <td>01/23/2010</td>\n",
       "      <td>INFLUENZA_A</td>\n",
       "      <td>0</td>\n",
       "    </tr>\n",
       "  </tbody>\n",
       "</table>\n",
       "</div>"
      ],
      "text/plain": [
       "      Season            Region  County  CDC Week Week Ending Date  \\\n",
       "0  2009-2010               NYC   BRONX        15       04/17/2010   \n",
       "2  2009-2010               NYC   BRONX        48       12/05/2009   \n",
       "3  2009-2010  CAPITAL DISTRICT  ALBANY         1       01/09/2010   \n",
       "6  2009-2010  CAPITAL DISTRICT  ALBANY         2       01/16/2010   \n",
       "9  2009-2010  CAPITAL DISTRICT  ALBANY         3       01/23/2010   \n",
       "\n",
       "       Disease  Count  \n",
       "0  INFLUENZA_A      0  \n",
       "2  INFLUENZA_A     91  \n",
       "3  INFLUENZA_A      0  \n",
       "6  INFLUENZA_A      0  \n",
       "9  INFLUENZA_A      0  "
      ]
     },
     "execution_count": 6,
     "metadata": {},
     "output_type": "execute_result"
    }
   ],
   "source": [
    "influenza_a = data[data['Disease'] == \"INFLUENZA_A\"]\n",
    "influenza_b = data[data['Disease'] == \"INFLUENZA_B\"]\n",
    "influenza_c = data[data['Disease'] == \"INFLUENZA_C\"]\n",
    "influenza_a.head()"
   ]
  },
  {
   "cell_type": "code",
   "execution_count": 7,
   "metadata": {},
   "outputs": [],
   "source": [
    "# Let's store the data only in the NYC Region\n",
    "influenza_a_nyc = influenza_a[influenza_a['Region'] == \"NYC\"]\n",
    "influenza_a_kings = influenza_a[influenza_a['County']==\"KINGS\"]\n",
    "influenza_a_queens = influenza_a[influenza_a['County']==\"QUEENS\"]\n",
    "influenza_a_bronx = influenza_a[influenza_a['County']==\"BRONX\"]"
   ]
  },
  {
   "cell_type": "code",
   "execution_count": 8,
   "metadata": {},
   "outputs": [
    {
     "name": "stderr",
     "output_type": "stream",
     "text": [
      "/usr/local/lib/python3.6/dist-packages/pandas/core/indexing.py:543: SettingWithCopyWarning: \n",
      "A value is trying to be set on a copy of a slice from a DataFrame.\n",
      "Try using .loc[row_indexer,col_indexer] = value instead\n",
      "\n",
      "See the caveats in the documentation: http://pandas.pydata.org/pandas-docs/stable/indexing.html#indexing-view-versus-copy\n",
      "  self.obj[item] = s\n"
     ]
    }
   ],
   "source": [
    "# size(kings) = size(queens) = size(bronx)\n",
    "# Now we have data we want seperated properl, and in weekly intervals\n",
    "# Convert into datetimes\n",
    "influenza_a_kings.loc[:,'Week Ending Date'] = pd.to_datetime(influenza_a_kings['Week Ending Date'])\n",
    "influenza_a_queens.loc[:,'Week Ending Date'] = pd.to_datetime(influenza_a_queens['Week Ending Date'])\n",
    "influenza_a_bronx.loc[:,'Week Ending Date'] = pd.to_datetime(influenza_a_bronx['Week Ending Date'])\n",
    "# Now we want the index of the dataset to go by the Week Ending Date\n",
    "influenza_a_kings.index = influenza_a_kings['Week Ending Date']\n",
    "influenza_a_queens.index = influenza_a_queens['Week Ending Date']\n",
    "influenza_a_bronx.index = influenza_a_bronx['Week Ending Date']\n",
    "# Now we can do time specific things with the data\n"
   ]
  },
  {
   "cell_type": "code",
   "execution_count": 9,
   "metadata": {},
   "outputs": [
    {
     "data": {
      "text/plain": [
       "count     325.000000\n",
       "mean       96.369231\n",
       "std       200.170989\n",
       "min         0.000000\n",
       "25%         4.000000\n",
       "50%        18.000000\n",
       "75%        90.000000\n",
       "max      1179.000000\n",
       "Name: Count, dtype: float64"
      ]
     },
     "execution_count": 9,
     "metadata": {},
     "output_type": "execute_result"
    }
   ],
   "source": [
    "# Now let's check out some things that are in the count database for Kings county\n",
    "influenza_a_kings.loc[:,'Count'].describe()"
   ]
  },
  {
   "cell_type": "code",
   "execution_count": 41,
   "metadata": {},
   "outputs": [
    {
     "data": {
      "text/plain": [
       "<matplotlib.axes._subplots.AxesSubplot at 0x7fba7e5b92e8>"
      ]
     },
     "execution_count": 41,
     "metadata": {},
     "output_type": "execute_result"
    },
    {
     "data": {
      "image/png": "[encoded data removed]",
      "text/plain": [
       "<Figure size 1008x432 with 3 Axes>"
      ]
     },
     "metadata": {
      "needs_background": "light"
     },
     "output_type": "display_data"
    }
   ],
   "source": [
    "# And let's get all the graphs\n",
    "plt.figure(figsize=(14,6))\n",
    "plt.subplots_adjust(left=0.3,hspace=0.42)\n",
    "plt.title(\"Influenza Counts for NYC Counties\")\n",
    "plt.subplot(311)\n",
    "influenza_a_kings.loc[:,'Count'].plot(ax = plt.gca())\n",
    "plt.subplot(312)\n",
    "influenza_a_bronx.loc[:,'Count'].plot(ax = plt.gca())\n",
    "plt.subplot(313)\n",
    "influenza_a_queens.loc[:,'Count'].plot(ax = plt.gca())"
   ]
  },
  {
   "cell_type": "code",
   "execution_count": null,
   "metadata": {},
   "outputs": [],
   "source": [
    "# All the flu seems to happen around the same time"
   ]
  },
  {
   "cell_type": "code",
   "execution_count": null,
   "metadata": {},
   "outputs": [],
   "source": []
  },
  {
   "cell_type": "code",
   "execution_count": null,
   "metadata": {},
   "outputs": [],
   "source": []
  },
  {
   "cell_type": "code",
   "execution_count": null,
   "metadata": {},
   "outputs": [],
   "source": []
  }
 ],
 "metadata": {
  "kernelspec": {
   "display_name": "Python 3",
   "language": "python",
   "name": "python3"
  },
  "language_info": {
   "codemirror_mode": {
    "name": "ipython",
    "version": 3
   },
   "file_extension": ".py",
   "mimetype": "text/x-python",
   "name": "python",
   "nbconvert_exporter": "python",
   "pygments_lexer": "ipython3",
   "version": "3.6.7"
  }
 },
 "nbformat": 4,
 "nbformat_minor": 2
}
